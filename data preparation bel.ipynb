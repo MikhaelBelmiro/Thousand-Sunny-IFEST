{
  "nbformat": 4,
  "nbformat_minor": 0,
  "metadata": {
    "colab": {
      "name": "Web Scraping.ipynb",
      "provenance": []
    },
    "kernelspec": {
      "name": "python3",
      "display_name": "Python 3"
    },
    "language_info": {
      "name": "python"
    }
  },
  "cells": [
    {
      "cell_type": "markdown",
      "metadata": {
        "id": "wIvkpOdasXcy"
      },
      "source": [
        "### Imports and Other Calls"
      ]
    },
    {
      "cell_type": "code",
      "metadata": {
        "colab": {
          "base_uri": "https://localhost:8080/"
        },
        "id": "nkxh20kDbZhe",
        "outputId": "d49f443c-52df-4b9c-9bcb-b93085ca5e97"
      },
      "source": [
        "!git clone https://github.com/MikhaelBelmiro/Thousand-Sunny-IFEST.git"
      ],
      "execution_count": 3,
      "outputs": [
        {
          "output_type": "stream",
          "text": [
            "Cloning into 'Thousand-Sunny-IFEST'...\n",
            "remote: Enumerating objects: 42, done.\u001b[K\n",
            "remote: Counting objects: 100% (42/42), done.\u001b[K\n",
            "remote: Compressing objects: 100% (36/36), done.\u001b[K\n",
            "remote: Total 42 (delta 7), reused 18 (delta 2), pack-reused 0\u001b[K\n",
            "Unpacking objects: 100% (42/42), done.\n"
          ],
          "name": "stdout"
        }
      ]
    },
    {
      "cell_type": "code",
      "metadata": {
        "id": "A7f6X0HalsFC"
      },
      "source": [
        "#Utilities\n",
        "import os\n",
        "import pandas as pd\n",
        "import numpy as np\n",
        "from datetime import datetime as dt\n",
        "\n",
        "#Visualization\n",
        "import matplotlib as mpl\n",
        "from plotly import express as px\n",
        "from plotly import graph_objects as go\n",
        "from matplotlib import pyplot as plt\n",
        "\n",
        "#Machine Learning and Shit\n",
        "from sklearn.preprocessing import MinMaxScaler"
      ],
      "execution_count": 4,
      "outputs": []
    },
    {
      "cell_type": "markdown",
      "metadata": {
        "id": "SMfpAkaPsaYU"
      },
      "source": [
        "### Function Definition"
      ]
    },
    {
      "cell_type": "code",
      "metadata": {
        "id": "kT-iC8R8qg0d"
      },
      "source": [
        "def read_prepare_saham(file_path):\n",
        "  df = pd.read_csv(file_path)[['Date', 'Adj Close', 'Volume']]\n",
        "  df['Date'] = pd.to_datetime(df['Date'])\n",
        "  df = df.set_index('Date').resample('D').last().fillna(method='bfill').reset_index()\n",
        "  df = df.rename(columns={'Date':'date', 'Adj Close':'adj close', 'Volume':'volume'})\n",
        "  return df\n",
        "\n",
        "def date_formatter_berita(df):\n",
        "  df['date'] = df['date'].apply(lambda x: dt.strptime(x, '%d %B %Y %H:%M').date())\n",
        "  df['date'] = pd.to_datetime(df['date'])\n",
        "  return df\n",
        "\n",
        "def target_creation(df, diff_days:list):\n",
        "  for i in diff_days:\n",
        "    df[f'diff{i}_adj_close'] = df.diff(periods=i)['adj close'].shift(-i)\n",
        "    df[f'target_{i}day'] = df[f'diff{i}_adj_close'].apply(lambda x: 1 if x > 0 else 0)\n",
        "  return df"
      ],
      "execution_count": 23,
      "outputs": []
    },
    {
      "cell_type": "markdown",
      "metadata": {
        "id": "Tv9xSdhLsciU"
      },
      "source": [
        "### Target Definition"
      ]
    },
    {
      "cell_type": "code",
      "metadata": {
        "id": "0ZzH3RCzb0zz"
      },
      "source": [
        "antm_news = date_formatter(pd.read_csv('/content/Thousand-Sunny-IFEST/berita emiten/ANTM_news_title.csv').dropna())\n",
        "giaa_news = date_formatter(pd.read_csv('/content/Thousand-Sunny-IFEST/berita emiten/GIAA_news_title.csv').dropna())\n",
        "kaef_news = date_formatter(pd.read_csv('/content/Thousand-Sunny-IFEST/berita emiten/KAEF_news_title.csv').dropna())\n",
        "unvr_news = date_formatter(pd.read_csv('/content/Thousand-Sunny-IFEST/berita emiten/UNVR_news_title.csv').dropna())\n",
        "wskt_news = date_formatter(pd.read_csv('/content/Thousand-Sunny-IFEST/berita emiten/WSKT_news_title.csv').dropna())"
      ],
      "execution_count": 44,
      "outputs": []
    },
    {
      "cell_type": "code",
      "metadata": {
        "id": "iXpNqqF9qrK9"
      },
      "source": [
        "giaa_saham = target_creation(read_prepare_saham('/content/Thousand-Sunny-IFEST/stock emiten/GIAA.JK.csv'), [i for i in range(1,3)])\n",
        "antm_saham = target_creation(read_prepare_saham('/content/Thousand-Sunny-IFEST/stock emiten/ANTM.JK.csv'), [i for i in range(1,15)])\n",
        "kaef_saham = target_creation(read_prepare_saham('/content/Thousand-Sunny-IFEST/stock emiten/KAEF.JK.csv'), [i for i in range(1,15)])\n",
        "unvr_saham = target_creation(read_prepare_saham('/content/Thousand-Sunny-IFEST/stock emiten/UNVR.JK.csv'), [i for i in range(1,15)])\n",
        "wskt_saham = target_creation(read_prepare_saham('/content/Thousand-Sunny-IFEST/stock emiten/WSKT.JK.csv'), [i for i in range(1,15)])"
      ],
      "execution_count": 31,
      "outputs": []
    },
    {
      "cell_type": "code",
      "metadata": {
        "id": "gyYxt0kKq-ry"
      },
      "source": [
        "giaa = pd.merge(giaa_news, giaa_saham, on='date', how='inner').sort_values('date')\n",
        "antm = pd.merge(antm_news, antm_saham, on='date', how='inner').sort_values('date')\n",
        "kaef = pd.merge(kaef_news, kaef_saham, on='date', how='inner').sort_values('date')\n",
        "unvr = pd.merge(unvr_news, unvr_saham, on='date', how='inner').sort_values('date')\n",
        "wskt = pd.merge(wskt_news, wskt_saham, on='date', how='inner').sort_values('date')"
      ],
      "execution_count": 45,
      "outputs": []
    },
    {
      "cell_type": "code",
      "metadata": {
        "colab": {
          "base_uri": "https://localhost:8080/"
        },
        "id": "0OfYccfPameF",
        "outputId": "b0edeabd-020a-4b8c-9b1c-5fccc373bd5c"
      },
      "source": [
        "!git push main main"
      ],
      "execution_count": 65,
      "outputs": [
        {
          "output_type": "stream",
          "text": [
            "fatal: could not read Username for 'https://github.com': No such device or address\n"
          ],
          "name": "stdout"
        }
      ]
    },
    {
      "cell_type": "markdown",
      "metadata": {
        "id": "wkksXA1Msvv3"
      },
      "source": [
        "### Pretraining Dataset"
      ]
    },
    {
      "cell_type": "code",
      "metadata": {
        "colab": {
          "base_uri": "https://localhost:8080/",
          "height": 419
        },
        "id": "MKbRNi_PlkB_",
        "outputId": "7dd44e5f-e60d-47b4-93a1-db18cab87c96"
      },
      "source": [
        "invest = pd.read_csv('/content/Thousand-Sunny-IFEST/dataset judul berita/investment_titles.csv').drop(columns=['Unnamed: 0'])\n",
        "market = pd.read_csv('/content/Thousand-Sunny-IFEST/dataset judul berita/market_titles.csv').drop(columns=['Unnamed: 0'])\n",
        "finetune_df = pd.concat([invest, market])\n",
        "finetune_df.columns = ['text']\n",
        "finetune_df"
      ],
      "execution_count": null,
      "outputs": [
        {
          "output_type": "execute_result",
          "data": {
            "text/html": [
              "<div>\n",
              "<style scoped>\n",
              "    .dataframe tbody tr th:only-of-type {\n",
              "        vertical-align: middle;\n",
              "    }\n",
              "\n",
              "    .dataframe tbody tr th {\n",
              "        vertical-align: top;\n",
              "    }\n",
              "\n",
              "    .dataframe thead th {\n",
              "        text-align: right;\n",
              "    }\n",
              "</style>\n",
              "<table border=\"1\" class=\"dataframe\">\n",
              "  <thead>\n",
              "    <tr style=\"text-align: right;\">\n",
              "      <th></th>\n",
              "      <th>text</th>\n",
              "    </tr>\n",
              "  </thead>\n",
              "  <tbody>\n",
              "    <tr>\n",
              "      <th>0</th>\n",
              "      <td>Banyak Rumor Sesat, Catat Hal Ini Sebelum Inve...</td>\n",
              "    </tr>\n",
              "    <tr>\n",
              "      <th>1</th>\n",
              "      <td>Live Now! Euforia Bukalapak Lewat, Cek Valuasi...</td>\n",
              "    </tr>\n",
              "    <tr>\n",
              "      <th>2</th>\n",
              "      <td>Jangan Tertipu! Investasi Bodong Mulai Pasang ...</td>\n",
              "    </tr>\n",
              "    <tr>\n",
              "      <th>3</th>\n",
              "      <td>Jurus Amankan Portofolio di Tengah Isu Tapering</td>\n",
              "    </tr>\n",
              "    <tr>\n",
              "      <th>4</th>\n",
              "      <td>Bocoran nih Bunda, Besok Harga Emas di Pegadai...</td>\n",
              "    </tr>\n",
              "    <tr>\n",
              "      <th>...</th>\n",
              "      <td>...</td>\n",
              "    </tr>\n",
              "    <tr>\n",
              "      <th>41294</th>\n",
              "      <td>Mau Bangun LRT Rp 400 T, Saham Ratu Prabu Teta...</td>\n",
              "    </tr>\n",
              "    <tr>\n",
              "      <th>41295</th>\n",
              "      <td>Rupiah Menguat Kembali, Dolar AS Jatuh ke Rp 1...</td>\n",
              "    </tr>\n",
              "    <tr>\n",
              "      <th>41296</th>\n",
              "      <td>Kompak dengan Bursa Asia Lainnya, IHSG Dibuka ...</td>\n",
              "    </tr>\n",
              "    <tr>\n",
              "      <th>41297</th>\n",
              "      <td>Kembalinya Dana Asing</td>\n",
              "    </tr>\n",
              "    <tr>\n",
              "      <th>41298</th>\n",
              "      <td>Sentimen Cenderung Positif Bursa Utama Asia Hijau</td>\n",
              "    </tr>\n",
              "  </tbody>\n",
              "</table>\n",
              "<p>45520 rows × 1 columns</p>\n",
              "</div>"
            ],
            "text/plain": [
              "                                                    text\n",
              "0      Banyak Rumor Sesat, Catat Hal Ini Sebelum Inve...\n",
              "1      Live Now! Euforia Bukalapak Lewat, Cek Valuasi...\n",
              "2      Jangan Tertipu! Investasi Bodong Mulai Pasang ...\n",
              "3        Jurus Amankan Portofolio di Tengah Isu Tapering\n",
              "4      Bocoran nih Bunda, Besok Harga Emas di Pegadai...\n",
              "...                                                  ...\n",
              "41294  Mau Bangun LRT Rp 400 T, Saham Ratu Prabu Teta...\n",
              "41295  Rupiah Menguat Kembali, Dolar AS Jatuh ke Rp 1...\n",
              "41296  Kompak dengan Bursa Asia Lainnya, IHSG Dibuka ...\n",
              "41297                              Kembalinya Dana Asing\n",
              "41298  Sentimen Cenderung Positif Bursa Utama Asia Hijau\n",
              "\n",
              "[45520 rows x 1 columns]"
            ]
          },
          "metadata": {},
          "execution_count": 18
        }
      ]
    }
  ]
}